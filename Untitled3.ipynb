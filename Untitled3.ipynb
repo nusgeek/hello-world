{
  "nbformat": 4,
  "nbformat_minor": 0,
  "metadata": {
    "colab": {
      "name": "Untitled3.ipynb",
      "version": "0.3.2",
      "provenance": [],
      "include_colab_link": true
    },
    "kernelspec": {
      "name": "python3",
      "display_name": "Python 3"
    }
  },
  "cells": [
    {
      "cell_type": "markdown",
      "metadata": {
        "id": "view-in-github",
        "colab_type": "text"
      },
      "source": [
        "<a href=\"https://colab.research.google.com/github/nusgeek/hello-world/blob/master/Untitled3.ipynb\" target=\"_parent\"><img src=\"https://colab.research.google.com/assets/colab-badge.svg\" alt=\"Open In Colab\"/></a>"
      ]
    },
    {
      "cell_type": "markdown",
      "metadata": {
        "id": "snhTKhiNxUnf",
        "colab_type": "text"
      },
      "source": [
        "# Day 2"
      ]
    },
    {
      "cell_type": "markdown",
      "metadata": {
        "id": "w9-wk-sExacv",
        "colab_type": "text"
      },
      "source": [
        "1. Temperature transformation\n",
        "\n"
      ]
    },
    {
      "cell_type": "code",
      "metadata": {
        "id": "NOEJF14ywX2V",
        "colab_type": "code",
        "colab": {
          "base_uri": "https://localhost:8080/",
          "height": 50
        },
        "outputId": "6c224c93-99b3-4ea1-a544-458d877ca974"
      },
      "source": [
        "F = input('Input F: ')\n",
        "C = (float(F) - 32)/1.6\n",
        "print(C)"
      ],
      "execution_count": 3,
      "outputs": [
        {
          "output_type": "stream",
          "text": [
            "Input F: 324\n",
            "182.5\n"
          ],
          "name": "stdout"
        }
      ]
    },
    {
      "cell_type": "markdown",
      "metadata": {
        "id": "zGyE6fZdyI54",
        "colab_type": "text"
      },
      "source": [
        ""
      ]
    }
  ]
}